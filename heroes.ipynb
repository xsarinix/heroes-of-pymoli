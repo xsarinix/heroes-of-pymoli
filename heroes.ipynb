{
 "cells": [
  {
   "cell_type": "markdown",
   "metadata": {},
   "source": [
    "# Heroes of Pymoli\n",
    "\n",
    "### The data set analyzed here is in-game purchase data for a fictional online fantasy game called Heroes of Pymoli. The game has 1163 total active players, of which 576 (49.5%) are buyers who have made a total of 780 purchases. The data set describes each purchase identified by a unique purchase ID and details the user who made the purchase and the item bought. "
   ]
  },
  {
   "cell_type": "code",
   "execution_count": 4,
   "metadata": {},
   "outputs": [],
   "source": [
    "# Import dependencies and setup\n",
    "import pandas as pd\n",
    "import numpy as np\n",
    "\n",
    "data_path = \"purchase_data.csv\"\n",
    "data = pd.read_csv(data_path)"
   ]
  },
  {
   "cell_type": "code",
   "execution_count": 189,
   "metadata": {
    "scrolled": true
   },
   "outputs": [
    {
     "data": {
      "text/html": [
       "<div>\n",
       "<style scoped>\n",
       "    .dataframe tbody tr th:only-of-type {\n",
       "        vertical-align: middle;\n",
       "    }\n",
       "\n",
       "    .dataframe tbody tr th {\n",
       "        vertical-align: top;\n",
       "    }\n",
       "\n",
       "    .dataframe thead th {\n",
       "        text-align: right;\n",
       "    }\n",
       "</style>\n",
       "<table border=\"1\" class=\"dataframe\">\n",
       "  <thead>\n",
       "    <tr style=\"text-align: right;\">\n",
       "      <th></th>\n",
       "      <th>Purchase ID</th>\n",
       "      <th>SN</th>\n",
       "      <th>Age</th>\n",
       "      <th>Gender</th>\n",
       "      <th>Item ID</th>\n",
       "      <th>Item Name</th>\n",
       "      <th>Price</th>\n",
       "      <th>Age Bin</th>\n",
       "    </tr>\n",
       "  </thead>\n",
       "  <tbody>\n",
       "    <tr>\n",
       "      <th>0</th>\n",
       "      <td>0</td>\n",
       "      <td>Lisim78</td>\n",
       "      <td>20</td>\n",
       "      <td>Male</td>\n",
       "      <td>108</td>\n",
       "      <td>Extraction, Quickblade Of Trembling Hands</td>\n",
       "      <td>3.53</td>\n",
       "      <td>20-24</td>\n",
       "    </tr>\n",
       "    <tr>\n",
       "      <th>1</th>\n",
       "      <td>1</td>\n",
       "      <td>Lisovynya38</td>\n",
       "      <td>40</td>\n",
       "      <td>Male</td>\n",
       "      <td>143</td>\n",
       "      <td>Frenzied Scimitar</td>\n",
       "      <td>1.56</td>\n",
       "      <td>Over 30</td>\n",
       "    </tr>\n",
       "    <tr>\n",
       "      <th>2</th>\n",
       "      <td>2</td>\n",
       "      <td>Ithergue48</td>\n",
       "      <td>24</td>\n",
       "      <td>Male</td>\n",
       "      <td>92</td>\n",
       "      <td>Final Critic</td>\n",
       "      <td>4.88</td>\n",
       "      <td>20-24</td>\n",
       "    </tr>\n",
       "    <tr>\n",
       "      <th>3</th>\n",
       "      <td>3</td>\n",
       "      <td>Chamassasya86</td>\n",
       "      <td>24</td>\n",
       "      <td>Male</td>\n",
       "      <td>100</td>\n",
       "      <td>Blindscythe</td>\n",
       "      <td>3.27</td>\n",
       "      <td>20-24</td>\n",
       "    </tr>\n",
       "    <tr>\n",
       "      <th>4</th>\n",
       "      <td>4</td>\n",
       "      <td>Iskosia90</td>\n",
       "      <td>23</td>\n",
       "      <td>Male</td>\n",
       "      <td>131</td>\n",
       "      <td>Fury</td>\n",
       "      <td>1.44</td>\n",
       "      <td>20-24</td>\n",
       "    </tr>\n",
       "  </tbody>\n",
       "</table>\n",
       "</div>"
      ],
      "text/plain": [
       "   Purchase ID             SN  Age Gender  Item ID  \\\n",
       "0            0        Lisim78   20   Male      108   \n",
       "1            1    Lisovynya38   40   Male      143   \n",
       "2            2     Ithergue48   24   Male       92   \n",
       "3            3  Chamassasya86   24   Male      100   \n",
       "4            4      Iskosia90   23   Male      131   \n",
       "\n",
       "                                   Item Name  Price  Age Bin  \n",
       "0  Extraction, Quickblade Of Trembling Hands   3.53    20-24  \n",
       "1                          Frenzied Scimitar   1.56  Over 30  \n",
       "2                               Final Critic   4.88    20-24  \n",
       "3                                Blindscythe   3.27    20-24  \n",
       "4                                       Fury   1.44    20-24  "
      ]
     },
     "execution_count": 189,
     "metadata": {},
     "output_type": "execute_result"
    }
   ],
   "source": [
    "data.head()"
   ]
  },
  {
   "cell_type": "code",
   "execution_count": 197,
   "metadata": {
    "scrolled": true
   },
   "outputs": [
    {
     "name": "stdout",
     "output_type": "stream",
     "text": [
      "Total Free-To-Play Players: 587 (50.5%)\n",
      "Total Purchasing Players: 576 (49.5%)\n",
      "Total Purchases: 780\n"
     ]
    }
   ],
   "source": [
    "# Calculate total number of buyers and purchases\n",
    "total_purchases = len(data)\n",
    "purchasing_players = len(data['SN'].unique())\n",
    "purchasers_pct = purchasing_players / 1163\n",
    "freetoplay_players = 1163 - purchasing_players\n",
    "freetoplay_pct = freetoplay_players / 1163\n",
    "print(f'Total Free-To-Play Players: {freetoplay_players} ({freetoplay_pct:.1%})')\n",
    "print(f'Total Purchasing Players: {purchasing_players} ({purchasers_pct:.1%})')\n",
    "print(f'Total Purchases: {total_purchases}')"
   ]
  },
  {
   "cell_type": "code",
   "execution_count": 13,
   "metadata": {},
   "outputs": [
    {
     "data": {
      "text/plain": [
       "Index(['Purchase ID', 'SN', 'Age', 'Gender', 'Item ID', 'Item Name', 'Price'], dtype='object')"
      ]
     },
     "execution_count": 13,
     "metadata": {},
     "output_type": "execute_result"
    }
   ],
   "source": [
    "data.columns"
   ]
  },
  {
   "cell_type": "code",
   "execution_count": 11,
   "metadata": {
    "scrolled": true
   },
   "outputs": [
    {
     "data": {
      "text/html": [
       "<div>\n",
       "<style scoped>\n",
       "    .dataframe tbody tr th:only-of-type {\n",
       "        vertical-align: middle;\n",
       "    }\n",
       "\n",
       "    .dataframe tbody tr th {\n",
       "        vertical-align: top;\n",
       "    }\n",
       "\n",
       "    .dataframe thead th {\n",
       "        text-align: right;\n",
       "    }\n",
       "</style>\n",
       "<table border=\"1\" class=\"dataframe\">\n",
       "  <thead>\n",
       "    <tr style=\"text-align: right;\">\n",
       "      <th></th>\n",
       "      <th>Purchase ID</th>\n",
       "      <th>Age</th>\n",
       "      <th>Item ID</th>\n",
       "      <th>Price</th>\n",
       "    </tr>\n",
       "  </thead>\n",
       "  <tbody>\n",
       "    <tr>\n",
       "      <th>count</th>\n",
       "      <td>780.000000</td>\n",
       "      <td>780.000000</td>\n",
       "      <td>780.000000</td>\n",
       "      <td>780.000000</td>\n",
       "    </tr>\n",
       "    <tr>\n",
       "      <th>mean</th>\n",
       "      <td>389.500000</td>\n",
       "      <td>22.714103</td>\n",
       "      <td>92.114103</td>\n",
       "      <td>3.050987</td>\n",
       "    </tr>\n",
       "    <tr>\n",
       "      <th>std</th>\n",
       "      <td>225.310896</td>\n",
       "      <td>6.659444</td>\n",
       "      <td>52.775943</td>\n",
       "      <td>1.169549</td>\n",
       "    </tr>\n",
       "    <tr>\n",
       "      <th>min</th>\n",
       "      <td>0.000000</td>\n",
       "      <td>7.000000</td>\n",
       "      <td>0.000000</td>\n",
       "      <td>1.000000</td>\n",
       "    </tr>\n",
       "    <tr>\n",
       "      <th>25%</th>\n",
       "      <td>194.750000</td>\n",
       "      <td>20.000000</td>\n",
       "      <td>48.000000</td>\n",
       "      <td>1.980000</td>\n",
       "    </tr>\n",
       "    <tr>\n",
       "      <th>50%</th>\n",
       "      <td>389.500000</td>\n",
       "      <td>22.000000</td>\n",
       "      <td>93.000000</td>\n",
       "      <td>3.150000</td>\n",
       "    </tr>\n",
       "    <tr>\n",
       "      <th>75%</th>\n",
       "      <td>584.250000</td>\n",
       "      <td>25.000000</td>\n",
       "      <td>139.000000</td>\n",
       "      <td>4.080000</td>\n",
       "    </tr>\n",
       "    <tr>\n",
       "      <th>max</th>\n",
       "      <td>779.000000</td>\n",
       "      <td>45.000000</td>\n",
       "      <td>183.000000</td>\n",
       "      <td>4.990000</td>\n",
       "    </tr>\n",
       "  </tbody>\n",
       "</table>\n",
       "</div>"
      ],
      "text/plain": [
       "       Purchase ID         Age     Item ID       Price\n",
       "count   780.000000  780.000000  780.000000  780.000000\n",
       "mean    389.500000   22.714103   92.114103    3.050987\n",
       "std     225.310896    6.659444   52.775943    1.169549\n",
       "min       0.000000    7.000000    0.000000    1.000000\n",
       "25%     194.750000   20.000000   48.000000    1.980000\n",
       "50%     389.500000   22.000000   93.000000    3.150000\n",
       "75%     584.250000   25.000000  139.000000    4.080000\n",
       "max     779.000000   45.000000  183.000000    4.990000"
      ]
     },
     "execution_count": 11,
     "metadata": {},
     "output_type": "execute_result"
    }
   ],
   "source": [
    "data.describe()"
   ]
  },
  {
   "cell_type": "markdown",
   "metadata": {},
   "source": [
    "Demographics\n",
    "-----------------\n",
    "There have been a total of 780 purchases made by 49.53% of players (576). 49.5% of male players and 49.7% of female players made a purchase. Of players that made a purchase, 84% (484) were male and 14.1% (81) were female. Male buyers made 83.6% (652) of the total purchases and female buyers made 14.5% (113) of the total purchases. 44.8% (258) of the buyers were 20-24, and they made 46.8% (365) of the total purchases."
   ]
  },
  {
   "cell_type": "code",
   "execution_count": 119,
   "metadata": {},
   "outputs": [
    {
     "name": "stdout",
     "output_type": "stream",
     "text": [
      "Purchases made by men: 652 (83.6%)\n",
      "Purchases made by women: 113 (14.5%)\n"
     ]
    },
    {
     "data": {
      "text/html": [
       "<div>\n",
       "<style scoped>\n",
       "    .dataframe tbody tr th:only-of-type {\n",
       "        vertical-align: middle;\n",
       "    }\n",
       "\n",
       "    .dataframe tbody tr th {\n",
       "        vertical-align: top;\n",
       "    }\n",
       "\n",
       "    .dataframe thead th {\n",
       "        text-align: right;\n",
       "    }\n",
       "</style>\n",
       "<table border=\"1\" class=\"dataframe\">\n",
       "  <thead>\n",
       "    <tr style=\"text-align: right;\">\n",
       "      <th></th>\n",
       "      <th>Purchase ID</th>\n",
       "      <th>SN</th>\n",
       "      <th>Age</th>\n",
       "      <th>Item ID</th>\n",
       "      <th>Item Name</th>\n",
       "      <th>Price</th>\n",
       "      <th>Age Bin</th>\n",
       "    </tr>\n",
       "    <tr>\n",
       "      <th>Gender</th>\n",
       "      <th></th>\n",
       "      <th></th>\n",
       "      <th></th>\n",
       "      <th></th>\n",
       "      <th></th>\n",
       "      <th></th>\n",
       "      <th></th>\n",
       "    </tr>\n",
       "  </thead>\n",
       "  <tbody>\n",
       "    <tr>\n",
       "      <th>Female</th>\n",
       "      <td>113</td>\n",
       "      <td>113</td>\n",
       "      <td>113</td>\n",
       "      <td>113</td>\n",
       "      <td>113</td>\n",
       "      <td>113</td>\n",
       "      <td>113</td>\n",
       "    </tr>\n",
       "    <tr>\n",
       "      <th>Male</th>\n",
       "      <td>652</td>\n",
       "      <td>652</td>\n",
       "      <td>652</td>\n",
       "      <td>652</td>\n",
       "      <td>652</td>\n",
       "      <td>652</td>\n",
       "      <td>652</td>\n",
       "    </tr>\n",
       "    <tr>\n",
       "      <th>Other / Non-Disclosed</th>\n",
       "      <td>15</td>\n",
       "      <td>15</td>\n",
       "      <td>15</td>\n",
       "      <td>15</td>\n",
       "      <td>15</td>\n",
       "      <td>15</td>\n",
       "      <td>15</td>\n",
       "    </tr>\n",
       "  </tbody>\n",
       "</table>\n",
       "</div>"
      ],
      "text/plain": [
       "                       Purchase ID   SN  Age  Item ID  Item Name  Price  \\\n",
       "Gender                                                                    \n",
       "Female                         113  113  113      113        113    113   \n",
       "Male                           652  652  652      652        652    652   \n",
       "Other / Non-Disclosed           15   15   15       15         15     15   \n",
       "\n",
       "                       Age Bin  \n",
       "Gender                          \n",
       "Female                     113  \n",
       "Male                       652  \n",
       "Other / Non-Disclosed       15  "
      ]
     },
     "execution_count": 119,
     "metadata": {},
     "output_type": "execute_result"
    }
   ],
   "source": [
    "# Breakdown of total purchases by gender\n",
    "genders_purchase = data['Gender'].value_counts()\n",
    "male_purchases_pct = genders_purchase['Male'] / total_purchases\n",
    "female_purchases_pct = genders_purchase['Female'] / total_purchases\n",
    "print(f'Purchases made by men: {genders_purchase[\"Male\"]} ({male_purchases_pct:.1%})')\n",
    "print(f'Purchases made by women: {genders_purchase[\"Female\"]} ({female_purchases_pct:.1%})')\n",
    "data.groupby('Gender').count()"
   ]
  },
  {
   "cell_type": "code",
   "execution_count": 110,
   "metadata": {
    "scrolled": false
   },
   "outputs": [
    {
     "data": {
      "text/html": [
       "<style  type=\"text/css\" >\n",
       "</style><table id=\"T_661fa0c6_72b5_11ea_8c1d_2016b91f25ba\" ><thead>    <tr>        <th class=\"blank level0\" ></th>        <th class=\"col_heading level0 col0\" >Purchases</th>        <th class=\"col_heading level0 col1\" >Percent</th>    </tr>    <tr>        <th class=\"index_name level0\" >Age Bin</th>        <th class=\"blank\" ></th>        <th class=\"blank\" ></th>    </tr></thead><tbody>\n",
       "                <tr>\n",
       "                        <th id=\"T_661fa0c6_72b5_11ea_8c1d_2016b91f25balevel0_row0\" class=\"row_heading level0 row0\" >Under 15</th>\n",
       "                        <td id=\"T_661fa0c6_72b5_11ea_8c1d_2016b91f25barow0_col0\" class=\"data row0 col0\" >51</td>\n",
       "                        <td id=\"T_661fa0c6_72b5_11ea_8c1d_2016b91f25barow0_col1\" class=\"data row0 col1\" >6.5%</td>\n",
       "            </tr>\n",
       "            <tr>\n",
       "                        <th id=\"T_661fa0c6_72b5_11ea_8c1d_2016b91f25balevel0_row1\" class=\"row_heading level0 row1\" >15-19</th>\n",
       "                        <td id=\"T_661fa0c6_72b5_11ea_8c1d_2016b91f25barow1_col0\" class=\"data row1 col0\" >136</td>\n",
       "                        <td id=\"T_661fa0c6_72b5_11ea_8c1d_2016b91f25barow1_col1\" class=\"data row1 col1\" >17.4%</td>\n",
       "            </tr>\n",
       "            <tr>\n",
       "                        <th id=\"T_661fa0c6_72b5_11ea_8c1d_2016b91f25balevel0_row2\" class=\"row_heading level0 row2\" >20-24</th>\n",
       "                        <td id=\"T_661fa0c6_72b5_11ea_8c1d_2016b91f25barow2_col0\" class=\"data row2 col0\" >365</td>\n",
       "                        <td id=\"T_661fa0c6_72b5_11ea_8c1d_2016b91f25barow2_col1\" class=\"data row2 col1\" >46.8%</td>\n",
       "            </tr>\n",
       "            <tr>\n",
       "                        <th id=\"T_661fa0c6_72b5_11ea_8c1d_2016b91f25balevel0_row3\" class=\"row_heading level0 row3\" >25-29</th>\n",
       "                        <td id=\"T_661fa0c6_72b5_11ea_8c1d_2016b91f25barow3_col0\" class=\"data row3 col0\" >101</td>\n",
       "                        <td id=\"T_661fa0c6_72b5_11ea_8c1d_2016b91f25barow3_col1\" class=\"data row3 col1\" >12.9%</td>\n",
       "            </tr>\n",
       "            <tr>\n",
       "                        <th id=\"T_661fa0c6_72b5_11ea_8c1d_2016b91f25balevel0_row4\" class=\"row_heading level0 row4\" >Over 30</th>\n",
       "                        <td id=\"T_661fa0c6_72b5_11ea_8c1d_2016b91f25barow4_col0\" class=\"data row4 col0\" >127</td>\n",
       "                        <td id=\"T_661fa0c6_72b5_11ea_8c1d_2016b91f25barow4_col1\" class=\"data row4 col1\" >16.3%</td>\n",
       "            </tr>\n",
       "    </tbody></table>"
      ],
      "text/plain": [
       "<pandas.io.formats.style.Styler at 0x11f2ee2f588>"
      ]
     },
     "execution_count": 110,
     "metadata": {},
     "output_type": "execute_result"
    }
   ],
   "source": [
    "# Breakdown of total purchases by age\n",
    "mean_age_purchases = data['Age'].mean()\n",
    "\n",
    "age_labels = ['Under 15', '15-19', '20-24', '25-29', 'Over 30']\n",
    "age_bins = [0, 14, 19, 24, 29, 99999]\n",
    "data['Age Bin'] = pd.cut(data['Age'], bins = age_bins, labels = age_labels)\n",
    "purchases_by_age_count = data.groupby('Age Bin').count()\n",
    "purchases_by_age = pd.DataFrame(purchases_by_age_count['Purchase ID']).rename(columns={'Purchase ID': 'Purchases'})\n",
    "purchases_by_age['Percent'] = purchases_by_age['Purchases'] / total_purchases\n",
    "purchases_by_age.style.format({'Percent': '{:,.1%}'})"
   ]
  },
  {
   "cell_type": "code",
   "execution_count": 176,
   "metadata": {
    "scrolled": false
   },
   "outputs": [
    {
     "name": "stdout",
     "output_type": "stream",
     "text": [
      "Percent of men making purchases: 49.5%\n",
      "Percent of purchasers that are men: 484 (84.0)%\n",
      "Percent of women making purchases: 49.7%\n",
      "Percent of purchasers that are female: 81 (14.1)%\n"
     ]
    },
    {
     "data": {
      "text/plain": [
       "Male                     484\n",
       "Female                    81\n",
       "Other / Non-Disclosed     11\n",
       "Name: Gender, dtype: int64"
      ]
     },
     "execution_count": 176,
     "metadata": {},
     "output_type": "execute_result"
    }
   ],
   "source": [
    "# Dataframe of purchasing players\n",
    "purchasing_players_df = data[['SN', 'Age', 'Gender']].drop_duplicates('SN')\n",
    "\n",
    "# Gender breakdown of purchasing players\n",
    "genders_purchasing_players = purchasing_players_df['Gender'].value_counts()\n",
    "pct_men_purchasing = genders_purchasing_players['Male'] / total_men\n",
    "pct_women_purchasing = genders_purchasing_players['Female'] / total_women\n",
    "male_purchasers_pct = genders_purchasing_players['Male'] / players_purchasing * 100\n",
    "female_purchasers_pct = genders_purchasing_players['Female'] / players_purchasing * 100\n",
    "print(f'Percent of men making purchases: {pct_men_purchasing:.1%}')\n",
    "print(f'Percent of purchasers that are men: {genders_purchasing_players[\"Male\"]} ({male_purchasers_pct:.1f})%')\n",
    "print(f'Percent of women making purchases: {pct_women_purchasing:.1%}')\n",
    "print(f'Percent of purchasers that are female: {genders_purchasing_players[\"Female\"]} ({female_purchasers_pct:.1f})%')\n",
    "      \n"
   ]
  },
  {
   "cell_type": "code",
   "execution_count": 112,
   "metadata": {
    "scrolled": true
   },
   "outputs": [
    {
     "data": {
      "text/html": [
       "<style  type=\"text/css\" >\n",
       "</style><table id=\"T_e6ffca66_72b5_11ea_b244_2016b91f25ba\" ><thead>    <tr>        <th class=\"blank level0\" ></th>        <th class=\"col_heading level0 col0\" >Buyers</th>        <th class=\"col_heading level0 col1\" >Percent</th>    </tr>    <tr>        <th class=\"index_name level0\" >Age Bin</th>        <th class=\"blank\" ></th>        <th class=\"blank\" ></th>    </tr></thead><tbody>\n",
       "                <tr>\n",
       "                        <th id=\"T_e6ffca66_72b5_11ea_b244_2016b91f25balevel0_row0\" class=\"row_heading level0 row0\" >Under 15</th>\n",
       "                        <td id=\"T_e6ffca66_72b5_11ea_b244_2016b91f25barow0_col0\" class=\"data row0 col0\" >39</td>\n",
       "                        <td id=\"T_e6ffca66_72b5_11ea_b244_2016b91f25barow0_col1\" class=\"data row0 col1\" >6.8%</td>\n",
       "            </tr>\n",
       "            <tr>\n",
       "                        <th id=\"T_e6ffca66_72b5_11ea_b244_2016b91f25balevel0_row1\" class=\"row_heading level0 row1\" >15-19</th>\n",
       "                        <td id=\"T_e6ffca66_72b5_11ea_b244_2016b91f25barow1_col0\" class=\"data row1 col0\" >107</td>\n",
       "                        <td id=\"T_e6ffca66_72b5_11ea_b244_2016b91f25barow1_col1\" class=\"data row1 col1\" >18.6%</td>\n",
       "            </tr>\n",
       "            <tr>\n",
       "                        <th id=\"T_e6ffca66_72b5_11ea_b244_2016b91f25balevel0_row2\" class=\"row_heading level0 row2\" >20-24</th>\n",
       "                        <td id=\"T_e6ffca66_72b5_11ea_b244_2016b91f25barow2_col0\" class=\"data row2 col0\" >258</td>\n",
       "                        <td id=\"T_e6ffca66_72b5_11ea_b244_2016b91f25barow2_col1\" class=\"data row2 col1\" >44.8%</td>\n",
       "            </tr>\n",
       "            <tr>\n",
       "                        <th id=\"T_e6ffca66_72b5_11ea_b244_2016b91f25balevel0_row3\" class=\"row_heading level0 row3\" >25-29</th>\n",
       "                        <td id=\"T_e6ffca66_72b5_11ea_b244_2016b91f25barow3_col0\" class=\"data row3 col0\" >77</td>\n",
       "                        <td id=\"T_e6ffca66_72b5_11ea_b244_2016b91f25barow3_col1\" class=\"data row3 col1\" >13.4%</td>\n",
       "            </tr>\n",
       "            <tr>\n",
       "                        <th id=\"T_e6ffca66_72b5_11ea_b244_2016b91f25balevel0_row4\" class=\"row_heading level0 row4\" >Over 30</th>\n",
       "                        <td id=\"T_e6ffca66_72b5_11ea_b244_2016b91f25barow4_col0\" class=\"data row4 col0\" >95</td>\n",
       "                        <td id=\"T_e6ffca66_72b5_11ea_b244_2016b91f25barow4_col1\" class=\"data row4 col1\" >16.5%</td>\n",
       "            </tr>\n",
       "    </tbody></table>"
      ],
      "text/plain": [
       "<pandas.io.formats.style.Styler at 0x11f2ee81470>"
      ]
     },
     "execution_count": 112,
     "metadata": {},
     "output_type": "execute_result"
    }
   ],
   "source": [
    "# Age breakdown of purchasing players\n",
    "mean_age_purchasers = purchasing_players_df['Age'].mean()\n",
    "\n",
    "purchasing_players_df['Age Bin'] = pd.cut(data['Age'], bins = age_bins, labels = age_labels)\n",
    "purchasers_by_age_count = purchasing_players_df.groupby('Age Bin').count()\n",
    "purchasers_by_age = pd.DataFrame(purchasers_by_age_count['SN']).rename(columns={'SN': 'Buyers'})\n",
    "purchasers_by_age['Percent'] = purchasers_by_age['Buyers'] / players_purchasing\n",
    "purchasers_by_age.style.format({'Percent': '{:,.1%}'})"
   ]
  },
  {
   "cell_type": "markdown",
   "metadata": {},
   "source": [
    "Purchasing Analysis\n",
    "-------------------------\n",
    "179 different items were purchased for a total of $2379.77 in revenue. There are 145 different prices. Items range in price from $1.00 to $4.99 with an average price of $3.04. \n",
    "\n",
    "Revenue from men totaled $1967.64 with an average purchase price of $3.02 and average spend of $4.07 per person. Revenue from women totaled $361.94 with an average purchase price of $3.20 and average spend of $4.47 per person.\n",
    "\n"
   ]
  },
  {
   "cell_type": "code",
   "execution_count": 186,
   "metadata": {},
   "outputs": [
    {
     "name": "stdout",
     "output_type": "stream",
     "text": [
      "Total items: 179\n",
      "Average Item Price: $3.04\n",
      "Total Revenue: $2,379.77\n"
     ]
    },
    {
     "data": {
      "text/html": [
       "<style  type=\"text/css\" >\n",
       "</style><table id=\"T_d71a7548_734d_11ea_a357_2016b91f25ba\" ><thead>    <tr>        <th class=\"blank level0\" ></th>        <th class=\"col_heading level0 col0\" >Purchase ID</th>        <th class=\"col_heading level0 col1\" >Average Price</th>        <th class=\"col_heading level0 col2\" >Total Revenue</th>        <th class=\"col_heading level0 col3\" >Avg Revenue per Person</th>    </tr>    <tr>        <th class=\"index_name level0\" >Gender</th>        <th class=\"blank\" ></th>        <th class=\"blank\" ></th>        <th class=\"blank\" ></th>        <th class=\"blank\" ></th>    </tr></thead><tbody>\n",
       "                <tr>\n",
       "                        <th id=\"T_d71a7548_734d_11ea_a357_2016b91f25balevel0_row0\" class=\"row_heading level0 row0\" >Female</th>\n",
       "                        <td id=\"T_d71a7548_734d_11ea_a357_2016b91f25barow0_col0\" class=\"data row0 col0\" >113</td>\n",
       "                        <td id=\"T_d71a7548_734d_11ea_a357_2016b91f25barow0_col1\" class=\"data row0 col1\" >$3.20</td>\n",
       "                        <td id=\"T_d71a7548_734d_11ea_a357_2016b91f25barow0_col2\" class=\"data row0 col2\" >$361.94</td>\n",
       "                        <td id=\"T_d71a7548_734d_11ea_a357_2016b91f25barow0_col3\" class=\"data row0 col3\" >$4.47</td>\n",
       "            </tr>\n",
       "            <tr>\n",
       "                        <th id=\"T_d71a7548_734d_11ea_a357_2016b91f25balevel0_row1\" class=\"row_heading level0 row1\" >Male</th>\n",
       "                        <td id=\"T_d71a7548_734d_11ea_a357_2016b91f25barow1_col0\" class=\"data row1 col0\" >652</td>\n",
       "                        <td id=\"T_d71a7548_734d_11ea_a357_2016b91f25barow1_col1\" class=\"data row1 col1\" >$3.02</td>\n",
       "                        <td id=\"T_d71a7548_734d_11ea_a357_2016b91f25barow1_col2\" class=\"data row1 col2\" >$1967.64</td>\n",
       "                        <td id=\"T_d71a7548_734d_11ea_a357_2016b91f25barow1_col3\" class=\"data row1 col3\" >$4.07</td>\n",
       "            </tr>\n",
       "            <tr>\n",
       "                        <th id=\"T_d71a7548_734d_11ea_a357_2016b91f25balevel0_row2\" class=\"row_heading level0 row2\" >Other / Non-Disclosed</th>\n",
       "                        <td id=\"T_d71a7548_734d_11ea_a357_2016b91f25barow2_col0\" class=\"data row2 col0\" >15</td>\n",
       "                        <td id=\"T_d71a7548_734d_11ea_a357_2016b91f25barow2_col1\" class=\"data row2 col1\" >$3.35</td>\n",
       "                        <td id=\"T_d71a7548_734d_11ea_a357_2016b91f25barow2_col2\" class=\"data row2 col2\" >$50.19</td>\n",
       "                        <td id=\"T_d71a7548_734d_11ea_a357_2016b91f25barow2_col3\" class=\"data row2 col3\" >$4.56</td>\n",
       "            </tr>\n",
       "    </tbody></table>"
      ],
      "text/plain": [
       "<pandas.io.formats.style.Styler at 0x11f2ef36128>"
      ]
     },
     "execution_count": 186,
     "metadata": {},
     "output_type": "execute_result"
    }
   ],
   "source": [
    "total_items = len(data['Item Name'].unique())\n",
    "print(f'Total items: {total_items:,.0f}')\n",
    "data_groupby_itemname = data.groupby('Item Name')\n",
    "item_df = data[['Item ID', 'Item Name', 'Price']].drop_duplicates('Item Name')\n",
    "average_price = round(item_df['Price'].mean(), 2)\n",
    "print(f'Average Item Price: ${average_price:,.2f}')\n",
    "total_revenue = data['Price'].sum()\n",
    "print(f'Total Revenue: ${total_revenue:,.2f}')\n",
    "purchases_by_gender = data.groupby('Gender')\n",
    "purchases_by_gender_summary = pd.DataFrame(purchases_by_gender['Purchase ID'].count())\n",
    "purchases_by_gender_summary['Average Price'] = purchases_by_gender['Price'].mean()\n",
    "purchases_by_gender_summary['Total Revenue'] = purchases_by_gender['Price'].sum()\n",
    "purchases_by_user = data.groupby(['Gender', 'SN'])\n",
    "purchases_by_gender_summary['Avg Revenue per Person'] = purchases_by_gender_summary['Total Revenue'] / purchasing_players_df['Gender'].value_counts()\n",
    "purchases_by_gender_summary.style.format({'Average Price': '${:.2f}', 'Total Revenue': '${:.2f}', 'Avg Revenue per Person': '${:.2f}'})"
   ]
  },
  {
   "cell_type": "code",
   "execution_count": null,
   "metadata": {},
   "outputs": [],
   "source": []
  }
 ],
 "metadata": {
  "kernelspec": {
   "display_name": "Python 3",
   "language": "python",
   "name": "python3"
  },
  "language_info": {
   "codemirror_mode": {
    "name": "ipython",
    "version": 3
   },
   "file_extension": ".py",
   "mimetype": "text/x-python",
   "name": "python",
   "nbconvert_exporter": "python",
   "pygments_lexer": "ipython3",
   "version": "3.6.8"
  }
 },
 "nbformat": 4,
 "nbformat_minor": 2
}
