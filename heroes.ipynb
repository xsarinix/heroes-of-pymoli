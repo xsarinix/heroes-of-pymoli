{
 "cells": [
  {
   "cell_type": "markdown",
   "metadata": {},
   "source": [
    "# Heroes of Pymoli\n",
    "\n",
    "### The data set analyzed here is in-game purchase data for a fictional online fantasy game called Heroes of Pymoli. The game has 1163 total active players, of which 576 (49.5%) are buyers who have made a total of 780 purchases. The data set describes each purchase, identified by a unique purchase ID, and details the user who made the purchase and the item bought. "
   ]
  },
  {
   "cell_type": "code",
   "execution_count": 3,
   "metadata": {},
   "outputs": [],
   "source": [
    "# Import dependencies and setup\n",
    "import pandas as pd\n",
    "import numpy as np\n",
    "\n",
    "data_path = \"purchase_data.csv\"\n",
    "data = pd.read_csv(data_path)"
   ]
  },
  {
   "cell_type": "code",
   "execution_count": 247,
   "metadata": {
    "scrolled": true
   },
   "outputs": [
    {
     "data": {
      "text/html": [
       "<div>\n",
       "<style scoped>\n",
       "    .dataframe tbody tr th:only-of-type {\n",
       "        vertical-align: middle;\n",
       "    }\n",
       "\n",
       "    .dataframe tbody tr th {\n",
       "        vertical-align: top;\n",
       "    }\n",
       "\n",
       "    .dataframe thead th {\n",
       "        text-align: right;\n",
       "    }\n",
       "</style>\n",
       "<table border=\"1\" class=\"dataframe\">\n",
       "  <thead>\n",
       "    <tr style=\"text-align: right;\">\n",
       "      <th></th>\n",
       "      <th>Purchase ID</th>\n",
       "      <th>SN</th>\n",
       "      <th>Age</th>\n",
       "      <th>Gender</th>\n",
       "      <th>Item ID</th>\n",
       "      <th>Item Name</th>\n",
       "      <th>Price</th>\n",
       "      <th>Age Range</th>\n",
       "    </tr>\n",
       "  </thead>\n",
       "  <tbody>\n",
       "    <tr>\n",
       "      <th>0</th>\n",
       "      <td>0</td>\n",
       "      <td>Lisim78</td>\n",
       "      <td>20</td>\n",
       "      <td>Male</td>\n",
       "      <td>108</td>\n",
       "      <td>Extraction, Quickblade Of Trembling Hands</td>\n",
       "      <td>3.53</td>\n",
       "      <td>20-24</td>\n",
       "    </tr>\n",
       "    <tr>\n",
       "      <th>1</th>\n",
       "      <td>1</td>\n",
       "      <td>Lisovynya38</td>\n",
       "      <td>40</td>\n",
       "      <td>Male</td>\n",
       "      <td>143</td>\n",
       "      <td>Frenzied Scimitar</td>\n",
       "      <td>1.56</td>\n",
       "      <td>30 &amp; Over</td>\n",
       "    </tr>\n",
       "    <tr>\n",
       "      <th>2</th>\n",
       "      <td>2</td>\n",
       "      <td>Ithergue48</td>\n",
       "      <td>24</td>\n",
       "      <td>Male</td>\n",
       "      <td>92</td>\n",
       "      <td>Final Critic</td>\n",
       "      <td>4.88</td>\n",
       "      <td>20-24</td>\n",
       "    </tr>\n",
       "    <tr>\n",
       "      <th>3</th>\n",
       "      <td>3</td>\n",
       "      <td>Chamassasya86</td>\n",
       "      <td>24</td>\n",
       "      <td>Male</td>\n",
       "      <td>100</td>\n",
       "      <td>Blindscythe</td>\n",
       "      <td>3.27</td>\n",
       "      <td>20-24</td>\n",
       "    </tr>\n",
       "    <tr>\n",
       "      <th>4</th>\n",
       "      <td>4</td>\n",
       "      <td>Iskosia90</td>\n",
       "      <td>23</td>\n",
       "      <td>Male</td>\n",
       "      <td>131</td>\n",
       "      <td>Fury</td>\n",
       "      <td>1.44</td>\n",
       "      <td>20-24</td>\n",
       "    </tr>\n",
       "    <tr>\n",
       "      <th>...</th>\n",
       "      <td>...</td>\n",
       "      <td>...</td>\n",
       "      <td>...</td>\n",
       "      <td>...</td>\n",
       "      <td>...</td>\n",
       "      <td>...</td>\n",
       "      <td>...</td>\n",
       "      <td>...</td>\n",
       "    </tr>\n",
       "    <tr>\n",
       "      <th>775</th>\n",
       "      <td>775</td>\n",
       "      <td>Aethedru70</td>\n",
       "      <td>21</td>\n",
       "      <td>Female</td>\n",
       "      <td>60</td>\n",
       "      <td>Wolf</td>\n",
       "      <td>3.54</td>\n",
       "      <td>20-24</td>\n",
       "    </tr>\n",
       "    <tr>\n",
       "      <th>776</th>\n",
       "      <td>776</td>\n",
       "      <td>Iral74</td>\n",
       "      <td>21</td>\n",
       "      <td>Male</td>\n",
       "      <td>164</td>\n",
       "      <td>Exiled Doomblade</td>\n",
       "      <td>1.63</td>\n",
       "      <td>20-24</td>\n",
       "    </tr>\n",
       "    <tr>\n",
       "      <th>777</th>\n",
       "      <td>777</td>\n",
       "      <td>Yathecal72</td>\n",
       "      <td>20</td>\n",
       "      <td>Male</td>\n",
       "      <td>67</td>\n",
       "      <td>Celeste, Incarnation of the Corrupted</td>\n",
       "      <td>3.46</td>\n",
       "      <td>20-24</td>\n",
       "    </tr>\n",
       "    <tr>\n",
       "      <th>778</th>\n",
       "      <td>778</td>\n",
       "      <td>Sisur91</td>\n",
       "      <td>7</td>\n",
       "      <td>Male</td>\n",
       "      <td>101</td>\n",
       "      <td>Final Critic</td>\n",
       "      <td>4.19</td>\n",
       "      <td>15 &amp; Under</td>\n",
       "    </tr>\n",
       "    <tr>\n",
       "      <th>779</th>\n",
       "      <td>779</td>\n",
       "      <td>Ennrian78</td>\n",
       "      <td>24</td>\n",
       "      <td>Male</td>\n",
       "      <td>50</td>\n",
       "      <td>Dawn</td>\n",
       "      <td>4.60</td>\n",
       "      <td>20-24</td>\n",
       "    </tr>\n",
       "  </tbody>\n",
       "</table>\n",
       "<p>780 rows × 8 columns</p>\n",
       "</div>"
      ],
      "text/plain": [
       "     Purchase ID             SN  Age  Gender  Item ID  \\\n",
       "0              0        Lisim78   20    Male      108   \n",
       "1              1    Lisovynya38   40    Male      143   \n",
       "2              2     Ithergue48   24    Male       92   \n",
       "3              3  Chamassasya86   24    Male      100   \n",
       "4              4      Iskosia90   23    Male      131   \n",
       "..           ...            ...  ...     ...      ...   \n",
       "775          775     Aethedru70   21  Female       60   \n",
       "776          776         Iral74   21    Male      164   \n",
       "777          777     Yathecal72   20    Male       67   \n",
       "778          778        Sisur91    7    Male      101   \n",
       "779          779      Ennrian78   24    Male       50   \n",
       "\n",
       "                                     Item Name  Price   Age Range  \n",
       "0    Extraction, Quickblade Of Trembling Hands   3.53       20-24  \n",
       "1                            Frenzied Scimitar   1.56   30 & Over  \n",
       "2                                 Final Critic   4.88       20-24  \n",
       "3                                  Blindscythe   3.27       20-24  \n",
       "4                                         Fury   1.44       20-24  \n",
       "..                                         ...    ...         ...  \n",
       "775                                       Wolf   3.54       20-24  \n",
       "776                           Exiled Doomblade   1.63       20-24  \n",
       "777      Celeste, Incarnation of the Corrupted   3.46       20-24  \n",
       "778                               Final Critic   4.19  15 & Under  \n",
       "779                                       Dawn   4.60       20-24  \n",
       "\n",
       "[780 rows x 8 columns]"
      ]
     },
     "execution_count": 247,
     "metadata": {},
     "output_type": "execute_result"
    }
   ],
   "source": [
    "data"
   ]
  },
  {
   "cell_type": "code",
   "execution_count": 323,
   "metadata": {
    "scrolled": true
   },
   "outputs": [
    {
     "name": "stdout",
     "output_type": "stream",
     "text": [
      "Total Free-To-Play Players: 587 (50.5%)\n",
      "Total Purchasing Players: 576 (49.5%)\n",
      "Total Purchases: 780\n"
     ]
    }
   ],
   "source": [
    "# Calculate total number of buyers and purchases\n",
    "total_purchases = len(data)\n",
    "purchasing_players = data['SN'].nunique()\n",
    "purchasers_pct = purchasing_players / 1163\n",
    "freetoplay_players = 1163 - purchasing_players\n",
    "freetoplay_pct = freetoplay_players / 1163\n",
    "print(f'Total Free-To-Play Players: {freetoplay_players} ({freetoplay_pct:.1%})')\n",
    "print(f'Total Purchasing Players: {purchasing_players} ({purchasers_pct:.1%})')\n",
    "print(f'Total Purchases: {total_purchases}')"
   ]
  },
  {
   "cell_type": "code",
   "execution_count": 212,
   "metadata": {
    "scrolled": true
   },
   "outputs": [
    {
     "data": {
      "text/html": [
       "<div>\n",
       "<style scoped>\n",
       "    .dataframe tbody tr th:only-of-type {\n",
       "        vertical-align: middle;\n",
       "    }\n",
       "\n",
       "    .dataframe tbody tr th {\n",
       "        vertical-align: top;\n",
       "    }\n",
       "\n",
       "    .dataframe thead th {\n",
       "        text-align: right;\n",
       "    }\n",
       "</style>\n",
       "<table border=\"1\" class=\"dataframe\">\n",
       "  <thead>\n",
       "    <tr style=\"text-align: right;\">\n",
       "      <th></th>\n",
       "      <th>Purchase ID</th>\n",
       "      <th>Age</th>\n",
       "      <th>Item ID</th>\n",
       "      <th>Price</th>\n",
       "    </tr>\n",
       "  </thead>\n",
       "  <tbody>\n",
       "    <tr>\n",
       "      <th>count</th>\n",
       "      <td>780.000000</td>\n",
       "      <td>780.000000</td>\n",
       "      <td>780.000000</td>\n",
       "      <td>780.000000</td>\n",
       "    </tr>\n",
       "    <tr>\n",
       "      <th>mean</th>\n",
       "      <td>389.500000</td>\n",
       "      <td>22.714103</td>\n",
       "      <td>92.114103</td>\n",
       "      <td>3.050987</td>\n",
       "    </tr>\n",
       "    <tr>\n",
       "      <th>std</th>\n",
       "      <td>225.310896</td>\n",
       "      <td>6.659444</td>\n",
       "      <td>52.775943</td>\n",
       "      <td>1.169549</td>\n",
       "    </tr>\n",
       "    <tr>\n",
       "      <th>min</th>\n",
       "      <td>0.000000</td>\n",
       "      <td>7.000000</td>\n",
       "      <td>0.000000</td>\n",
       "      <td>1.000000</td>\n",
       "    </tr>\n",
       "    <tr>\n",
       "      <th>25%</th>\n",
       "      <td>194.750000</td>\n",
       "      <td>20.000000</td>\n",
       "      <td>48.000000</td>\n",
       "      <td>1.980000</td>\n",
       "    </tr>\n",
       "    <tr>\n",
       "      <th>50%</th>\n",
       "      <td>389.500000</td>\n",
       "      <td>22.000000</td>\n",
       "      <td>93.000000</td>\n",
       "      <td>3.150000</td>\n",
       "    </tr>\n",
       "    <tr>\n",
       "      <th>75%</th>\n",
       "      <td>584.250000</td>\n",
       "      <td>25.000000</td>\n",
       "      <td>139.000000</td>\n",
       "      <td>4.080000</td>\n",
       "    </tr>\n",
       "    <tr>\n",
       "      <th>max</th>\n",
       "      <td>779.000000</td>\n",
       "      <td>45.000000</td>\n",
       "      <td>183.000000</td>\n",
       "      <td>4.990000</td>\n",
       "    </tr>\n",
       "  </tbody>\n",
       "</table>\n",
       "</div>"
      ],
      "text/plain": [
       "       Purchase ID         Age     Item ID       Price\n",
       "count   780.000000  780.000000  780.000000  780.000000\n",
       "mean    389.500000   22.714103   92.114103    3.050987\n",
       "std     225.310896    6.659444   52.775943    1.169549\n",
       "min       0.000000    7.000000    0.000000    1.000000\n",
       "25%     194.750000   20.000000   48.000000    1.980000\n",
       "50%     389.500000   22.000000   93.000000    3.150000\n",
       "75%     584.250000   25.000000  139.000000    4.080000\n",
       "max     779.000000   45.000000  183.000000    4.990000"
      ]
     },
     "execution_count": 212,
     "metadata": {},
     "output_type": "execute_result"
    }
   ],
   "source": [
    "data.describe()"
   ]
  },
  {
   "cell_type": "markdown",
   "metadata": {},
   "source": [
    "Purchases by Gender\n",
    "----------------------------\n",
    "Of players that made a purchase, 84.0% (484) were male and 14.1% (81) were female. Male buyers made 83.6% (652) of the total purchases and female buyers made 14.5% (113) of the total purchases.\n",
    "\n",
    "Revenue from men totaled $1967.64 with an average purchase price of $3.02 and average spend of $4.07 per person. Revenue from women totaled $361.94 with an average purchase price of $3.20 and average spend of $4.47 per person."
   ]
  },
  {
   "cell_type": "code",
   "execution_count": 251,
   "metadata": {
    "scrolled": true
   },
   "outputs": [
    {
     "data": {
      "text/html": [
       "<style  type=\"text/css\" >\n",
       "</style><table id=\"T_4de2989c_7441_11ea_8c67_2016b91f25ba\" ><thead>    <tr>        <th class=\"blank level0\" ></th>        <th class=\"col_heading level0 col0\" >Buyers</th>        <th class=\"col_heading level0 col1\" >% of Buyers</th>        <th class=\"col_heading level0 col2\" >Purchases</th>        <th class=\"col_heading level0 col3\" >% of Purchases</th>        <th class=\"col_heading level0 col4\" >Avg Purchase</th>        <th class=\"col_heading level0 col5\" >Total Revenue</th>        <th class=\"col_heading level0 col6\" >Avg Revenue per Person</th>    </tr>    <tr>        <th class=\"index_name level0\" >Gender</th>        <th class=\"blank\" ></th>        <th class=\"blank\" ></th>        <th class=\"blank\" ></th>        <th class=\"blank\" ></th>        <th class=\"blank\" ></th>        <th class=\"blank\" ></th>        <th class=\"blank\" ></th>    </tr></thead><tbody>\n",
       "                <tr>\n",
       "                        <th id=\"T_4de2989c_7441_11ea_8c67_2016b91f25balevel0_row0\" class=\"row_heading level0 row0\" >Female</th>\n",
       "                        <td id=\"T_4de2989c_7441_11ea_8c67_2016b91f25barow0_col0\" class=\"data row0 col0\" >81</td>\n",
       "                        <td id=\"T_4de2989c_7441_11ea_8c67_2016b91f25barow0_col1\" class=\"data row0 col1\" >14.06%</td>\n",
       "                        <td id=\"T_4de2989c_7441_11ea_8c67_2016b91f25barow0_col2\" class=\"data row0 col2\" >113</td>\n",
       "                        <td id=\"T_4de2989c_7441_11ea_8c67_2016b91f25barow0_col3\" class=\"data row0 col3\" >14.49%</td>\n",
       "                        <td id=\"T_4de2989c_7441_11ea_8c67_2016b91f25barow0_col4\" class=\"data row0 col4\" >$3.20</td>\n",
       "                        <td id=\"T_4de2989c_7441_11ea_8c67_2016b91f25barow0_col5\" class=\"data row0 col5\" >$361.94</td>\n",
       "                        <td id=\"T_4de2989c_7441_11ea_8c67_2016b91f25barow0_col6\" class=\"data row0 col6\" >$4.47</td>\n",
       "            </tr>\n",
       "            <tr>\n",
       "                        <th id=\"T_4de2989c_7441_11ea_8c67_2016b91f25balevel0_row1\" class=\"row_heading level0 row1\" >Male</th>\n",
       "                        <td id=\"T_4de2989c_7441_11ea_8c67_2016b91f25barow1_col0\" class=\"data row1 col0\" >484</td>\n",
       "                        <td id=\"T_4de2989c_7441_11ea_8c67_2016b91f25barow1_col1\" class=\"data row1 col1\" >84.03%</td>\n",
       "                        <td id=\"T_4de2989c_7441_11ea_8c67_2016b91f25barow1_col2\" class=\"data row1 col2\" >652</td>\n",
       "                        <td id=\"T_4de2989c_7441_11ea_8c67_2016b91f25barow1_col3\" class=\"data row1 col3\" >83.59%</td>\n",
       "                        <td id=\"T_4de2989c_7441_11ea_8c67_2016b91f25barow1_col4\" class=\"data row1 col4\" >$3.02</td>\n",
       "                        <td id=\"T_4de2989c_7441_11ea_8c67_2016b91f25barow1_col5\" class=\"data row1 col5\" >$1967.64</td>\n",
       "                        <td id=\"T_4de2989c_7441_11ea_8c67_2016b91f25barow1_col6\" class=\"data row1 col6\" >$4.07</td>\n",
       "            </tr>\n",
       "            <tr>\n",
       "                        <th id=\"T_4de2989c_7441_11ea_8c67_2016b91f25balevel0_row2\" class=\"row_heading level0 row2\" >Other / Non-Disclosed</th>\n",
       "                        <td id=\"T_4de2989c_7441_11ea_8c67_2016b91f25barow2_col0\" class=\"data row2 col0\" >11</td>\n",
       "                        <td id=\"T_4de2989c_7441_11ea_8c67_2016b91f25barow2_col1\" class=\"data row2 col1\" >1.91%</td>\n",
       "                        <td id=\"T_4de2989c_7441_11ea_8c67_2016b91f25barow2_col2\" class=\"data row2 col2\" >15</td>\n",
       "                        <td id=\"T_4de2989c_7441_11ea_8c67_2016b91f25barow2_col3\" class=\"data row2 col3\" >1.92%</td>\n",
       "                        <td id=\"T_4de2989c_7441_11ea_8c67_2016b91f25barow2_col4\" class=\"data row2 col4\" >$3.35</td>\n",
       "                        <td id=\"T_4de2989c_7441_11ea_8c67_2016b91f25barow2_col5\" class=\"data row2 col5\" >$50.19</td>\n",
       "                        <td id=\"T_4de2989c_7441_11ea_8c67_2016b91f25barow2_col6\" class=\"data row2 col6\" >$4.56</td>\n",
       "            </tr>\n",
       "    </tbody></table>"
      ],
      "text/plain": [
       "<pandas.io.formats.style.Styler at 0x11f2ef4f8d0>"
      ]
     },
     "execution_count": 251,
     "metadata": {},
     "output_type": "execute_result"
    }
   ],
   "source": [
    "purchases_by_gender = data.groupby('Gender')\n",
    "gender_summary = pd.DataFrame(purchases_by_gender['SN'].nunique()).rename(columns={'SN': 'Buyers'})\n",
    "gender_summary['% of Buyers'] = gender_summary['Buyers'] / purchasing_players\n",
    "gender_summary['Purchases'] = purchases_by_gender['Purchase ID'].count()\n",
    "gender_summary['% of Purchases'] = gender_summary['Purchases'] / gender_summary['Purchases'].sum()\n",
    "gender_summary['Avg Purchase'] = purchases_by_gender['Price'].mean()\n",
    "gender_summary['Total Revenue'] = purchases_by_gender['Price'].sum()\n",
    "gender_summary['Avg Revenue per Person'] = gender_summary['Total Revenue'] / gender_summary['Buyers']\n",
    "gender_summary.style.format({'% of Buyers': '{:.2%}', '% of Purchases': '{:.2%}', 'Avg Purchase': '${:.2f}', 'Total Revenue': '${:.2f}', 'Avg Revenue per Person': '${:.2f}'})"
   ]
  },
  {
   "cell_type": "markdown",
   "metadata": {},
   "source": [
    "Purchases by Age\n",
    "---------------------\n",
    "The majority of players who make a purchase (44.8%) are 20-24, followed by those who are 15-19 (18.6%) and those who are over 30 (16.5%). The least likely to buy are 25-29 (13.4%) and under 15 (6.8%)."
   ]
  },
  {
   "cell_type": "code",
   "execution_count": 325,
   "metadata": {},
   "outputs": [
    {
     "data": {
      "text/html": [
       "<style  type=\"text/css\" >\n",
       "</style><table id=\"T_fbf037ae_75e1_11ea_808c_2016b91f25ba\" ><thead>    <tr>        <th class=\"blank level0\" ></th>        <th class=\"col_heading level0 col0\" >Buyers</th>        <th class=\"col_heading level0 col1\" >% of Buyers</th>        <th class=\"col_heading level0 col2\" >Purchases</th>        <th class=\"col_heading level0 col3\" >% of Purchases</th>        <th class=\"col_heading level0 col4\" >Avg Purchase</th>        <th class=\"col_heading level0 col5\" >Total Revenue</th>        <th class=\"col_heading level0 col6\" >Avg Revenue per Person</th>    </tr>    <tr>        <th class=\"index_name level0\" >Age Range</th>        <th class=\"blank\" ></th>        <th class=\"blank\" ></th>        <th class=\"blank\" ></th>        <th class=\"blank\" ></th>        <th class=\"blank\" ></th>        <th class=\"blank\" ></th>        <th class=\"blank\" ></th>    </tr></thead><tbody>\n",
       "                <tr>\n",
       "                        <th id=\"T_fbf037ae_75e1_11ea_808c_2016b91f25balevel0_row0\" class=\"row_heading level0 row0\" >14 & Under</th>\n",
       "                        <td id=\"T_fbf037ae_75e1_11ea_808c_2016b91f25barow0_col0\" class=\"data row0 col0\" >39</td>\n",
       "                        <td id=\"T_fbf037ae_75e1_11ea_808c_2016b91f25barow0_col1\" class=\"data row0 col1\" >6.77%</td>\n",
       "                        <td id=\"T_fbf037ae_75e1_11ea_808c_2016b91f25barow0_col2\" class=\"data row0 col2\" >51</td>\n",
       "                        <td id=\"T_fbf037ae_75e1_11ea_808c_2016b91f25barow0_col3\" class=\"data row0 col3\" >6.54%</td>\n",
       "                        <td id=\"T_fbf037ae_75e1_11ea_808c_2016b91f25barow0_col4\" class=\"data row0 col4\" >$3.14</td>\n",
       "                        <td id=\"T_fbf037ae_75e1_11ea_808c_2016b91f25barow0_col5\" class=\"data row0 col5\" >$159.91</td>\n",
       "                        <td id=\"T_fbf037ae_75e1_11ea_808c_2016b91f25barow0_col6\" class=\"data row0 col6\" >$4.10</td>\n",
       "            </tr>\n",
       "            <tr>\n",
       "                        <th id=\"T_fbf037ae_75e1_11ea_808c_2016b91f25balevel0_row1\" class=\"row_heading level0 row1\" >15-19</th>\n",
       "                        <td id=\"T_fbf037ae_75e1_11ea_808c_2016b91f25barow1_col0\" class=\"data row1 col0\" >107</td>\n",
       "                        <td id=\"T_fbf037ae_75e1_11ea_808c_2016b91f25barow1_col1\" class=\"data row1 col1\" >18.58%</td>\n",
       "                        <td id=\"T_fbf037ae_75e1_11ea_808c_2016b91f25barow1_col2\" class=\"data row1 col2\" >136</td>\n",
       "                        <td id=\"T_fbf037ae_75e1_11ea_808c_2016b91f25barow1_col3\" class=\"data row1 col3\" >17.44%</td>\n",
       "                        <td id=\"T_fbf037ae_75e1_11ea_808c_2016b91f25barow1_col4\" class=\"data row1 col4\" >$3.04</td>\n",
       "                        <td id=\"T_fbf037ae_75e1_11ea_808c_2016b91f25barow1_col5\" class=\"data row1 col5\" >$412.89</td>\n",
       "                        <td id=\"T_fbf037ae_75e1_11ea_808c_2016b91f25barow1_col6\" class=\"data row1 col6\" >$3.86</td>\n",
       "            </tr>\n",
       "            <tr>\n",
       "                        <th id=\"T_fbf037ae_75e1_11ea_808c_2016b91f25balevel0_row2\" class=\"row_heading level0 row2\" >20-24</th>\n",
       "                        <td id=\"T_fbf037ae_75e1_11ea_808c_2016b91f25barow2_col0\" class=\"data row2 col0\" >258</td>\n",
       "                        <td id=\"T_fbf037ae_75e1_11ea_808c_2016b91f25barow2_col1\" class=\"data row2 col1\" >44.79%</td>\n",
       "                        <td id=\"T_fbf037ae_75e1_11ea_808c_2016b91f25barow2_col2\" class=\"data row2 col2\" >365</td>\n",
       "                        <td id=\"T_fbf037ae_75e1_11ea_808c_2016b91f25barow2_col3\" class=\"data row2 col3\" >46.79%</td>\n",
       "                        <td id=\"T_fbf037ae_75e1_11ea_808c_2016b91f25barow2_col4\" class=\"data row2 col4\" >$3.05</td>\n",
       "                        <td id=\"T_fbf037ae_75e1_11ea_808c_2016b91f25barow2_col5\" class=\"data row2 col5\" >$1114.06</td>\n",
       "                        <td id=\"T_fbf037ae_75e1_11ea_808c_2016b91f25barow2_col6\" class=\"data row2 col6\" >$4.32</td>\n",
       "            </tr>\n",
       "            <tr>\n",
       "                        <th id=\"T_fbf037ae_75e1_11ea_808c_2016b91f25balevel0_row3\" class=\"row_heading level0 row3\" >25-29</th>\n",
       "                        <td id=\"T_fbf037ae_75e1_11ea_808c_2016b91f25barow3_col0\" class=\"data row3 col0\" >77</td>\n",
       "                        <td id=\"T_fbf037ae_75e1_11ea_808c_2016b91f25barow3_col1\" class=\"data row3 col1\" >13.37%</td>\n",
       "                        <td id=\"T_fbf037ae_75e1_11ea_808c_2016b91f25barow3_col2\" class=\"data row3 col2\" >101</td>\n",
       "                        <td id=\"T_fbf037ae_75e1_11ea_808c_2016b91f25barow3_col3\" class=\"data row3 col3\" >12.95%</td>\n",
       "                        <td id=\"T_fbf037ae_75e1_11ea_808c_2016b91f25barow3_col4\" class=\"data row3 col4\" >$2.90</td>\n",
       "                        <td id=\"T_fbf037ae_75e1_11ea_808c_2016b91f25barow3_col5\" class=\"data row3 col5\" >$293.00</td>\n",
       "                        <td id=\"T_fbf037ae_75e1_11ea_808c_2016b91f25barow3_col6\" class=\"data row3 col6\" >$3.81</td>\n",
       "            </tr>\n",
       "            <tr>\n",
       "                        <th id=\"T_fbf037ae_75e1_11ea_808c_2016b91f25balevel0_row4\" class=\"row_heading level0 row4\" >30 & Over</th>\n",
       "                        <td id=\"T_fbf037ae_75e1_11ea_808c_2016b91f25barow4_col0\" class=\"data row4 col0\" >95</td>\n",
       "                        <td id=\"T_fbf037ae_75e1_11ea_808c_2016b91f25barow4_col1\" class=\"data row4 col1\" >16.49%</td>\n",
       "                        <td id=\"T_fbf037ae_75e1_11ea_808c_2016b91f25barow4_col2\" class=\"data row4 col2\" >127</td>\n",
       "                        <td id=\"T_fbf037ae_75e1_11ea_808c_2016b91f25barow4_col3\" class=\"data row4 col3\" >16.28%</td>\n",
       "                        <td id=\"T_fbf037ae_75e1_11ea_808c_2016b91f25barow4_col4\" class=\"data row4 col4\" >$3.15</td>\n",
       "                        <td id=\"T_fbf037ae_75e1_11ea_808c_2016b91f25barow4_col5\" class=\"data row4 col5\" >$399.91</td>\n",
       "                        <td id=\"T_fbf037ae_75e1_11ea_808c_2016b91f25barow4_col6\" class=\"data row4 col6\" >$4.21</td>\n",
       "            </tr>\n",
       "    </tbody></table>"
      ],
      "text/plain": [
       "<pandas.io.formats.style.Styler at 0x2c5dbca1240>"
      ]
     },
     "execution_count": 325,
     "metadata": {},
     "output_type": "execute_result"
    }
   ],
   "source": [
    "age_labels = ['14 & Under', '15-19', '20-24', '25-29', '30 & Over']\n",
    "age_bins = [0, 14, 19, 24, 29, 99999]\n",
    "data['Age Range'] = pd.cut(data['Age'], bins = age_bins, labels = age_labels)\n",
    "purchases_by_age = data.groupby('Age Range')\n",
    "age_summary = pd.DataFrame(purchases_by_age['SN'].nunique()).rename(columns={'SN': 'Buyers'})\n",
    "age_summary['% of Buyers'] = age_summary['Buyers'] / purchasing_players\n",
    "age_summary['Purchases'] = purchases_by_age['Purchase ID'].count()\n",
    "age_summary['% of Purchases'] = age_summary['Purchases'] / age_summary['Purchases'].sum()\n",
    "age_summary['Avg Purchase'] = purchases_by_age['Price'].mean()\n",
    "age_summary['Total Revenue'] = purchases_by_age['Price'].sum()\n",
    "age_summary['Avg Revenue per Person'] = age_summary['Total Revenue'] / age_summary['Buyers']\n",
    "age_summary.style.format({'% of Buyers': '{:.2%}', '% of Purchases': '{:.2%}', 'Avg Purchase': '${:.2f}', 'Total Revenue': '${:.2f}', 'Avg Revenue per Person': '${:.2f}'})                                                                        "
   ]
  },
  {
   "cell_type": "markdown",
   "metadata": {},
   "source": [
    "Pricing Analysis\n",
    "-------------------------\n",
    "179 different items were purchased for a total of $2379.77 in revenue. There are 145 different prices with an average item price of $3.04. Each item was purchased an average of 4 times. Top performing items (8-12 purchases) cost an average of $3.60 per item whereas average sellers (4-7 purchases) were $2.95 and poor sellers (1-3 purchases) were $3.08."
   ]
  },
  {
   "cell_type": "code",
   "execution_count": 350,
   "metadata": {
    "scrolled": true
   },
   "outputs": [
    {
     "data": {
      "text/html": [
       "<style  type=\"text/css\" >\n",
       "</style><table id=\"T_903e5180_75e4_11ea_973c_2016b91f25ba\" ><thead>    <tr>        <th class=\"blank\" ></th>        <th class=\"blank level0\" ></th>        <th class=\"col_heading level0 col0\" >Price</th>        <th class=\"col_heading level0 col1\" >Purchases</th>        <th class=\"col_heading level0 col2\" >Revenue</th>    </tr>    <tr>        <th class=\"index_name level0\" ></th>        <th class=\"index_name level1\" >Item Name</th>        <th class=\"blank\" ></th>        <th class=\"blank\" ></th>        <th class=\"blank\" ></th>    </tr></thead><tbody>\n",
       "                <tr>\n",
       "                        <th id=\"T_903e5180_75e4_11ea_973c_2016b91f25balevel0_row0\" class=\"row_heading level0 row0\" >178</th>\n",
       "                        <th id=\"T_903e5180_75e4_11ea_973c_2016b91f25balevel1_row0\" class=\"row_heading level1 row0\" >Oathbreaker, Last Hope of the Breaking Storm</th>\n",
       "                        <td id=\"T_903e5180_75e4_11ea_973c_2016b91f25barow0_col0\" class=\"data row0 col0\" >$4.23</td>\n",
       "                        <td id=\"T_903e5180_75e4_11ea_973c_2016b91f25barow0_col1\" class=\"data row0 col1\" >12</td>\n",
       "                        <td id=\"T_903e5180_75e4_11ea_973c_2016b91f25barow0_col2\" class=\"data row0 col2\" >$50.76</td>\n",
       "            </tr>\n",
       "            <tr>\n",
       "                        <th id=\"T_903e5180_75e4_11ea_973c_2016b91f25balevel0_row1\" class=\"row_heading level0 row1\" >145</th>\n",
       "                        <th id=\"T_903e5180_75e4_11ea_973c_2016b91f25balevel1_row1\" class=\"row_heading level1 row1\" >Fiery Glass Crusader</th>\n",
       "                        <td id=\"T_903e5180_75e4_11ea_973c_2016b91f25barow1_col0\" class=\"data row1 col0\" >$4.58</td>\n",
       "                        <td id=\"T_903e5180_75e4_11ea_973c_2016b91f25barow1_col1\" class=\"data row1 col1\" >9</td>\n",
       "                        <td id=\"T_903e5180_75e4_11ea_973c_2016b91f25barow1_col2\" class=\"data row1 col2\" >$41.22</td>\n",
       "            </tr>\n",
       "            <tr>\n",
       "                        <th id=\"T_903e5180_75e4_11ea_973c_2016b91f25balevel0_row2\" class=\"row_heading level0 row2\" >108</th>\n",
       "                        <th id=\"T_903e5180_75e4_11ea_973c_2016b91f25balevel1_row2\" class=\"row_heading level1 row2\" >Extraction, Quickblade Of Trembling Hands</th>\n",
       "                        <td id=\"T_903e5180_75e4_11ea_973c_2016b91f25barow2_col0\" class=\"data row2 col0\" >$3.53</td>\n",
       "                        <td id=\"T_903e5180_75e4_11ea_973c_2016b91f25barow2_col1\" class=\"data row2 col1\" >9</td>\n",
       "                        <td id=\"T_903e5180_75e4_11ea_973c_2016b91f25barow2_col2\" class=\"data row2 col2\" >$31.77</td>\n",
       "            </tr>\n",
       "            <tr>\n",
       "                        <th id=\"T_903e5180_75e4_11ea_973c_2016b91f25balevel0_row3\" class=\"row_heading level0 row3\" >82</th>\n",
       "                        <th id=\"T_903e5180_75e4_11ea_973c_2016b91f25balevel1_row3\" class=\"row_heading level1 row3\" >Nirvana</th>\n",
       "                        <td id=\"T_903e5180_75e4_11ea_973c_2016b91f25barow3_col0\" class=\"data row3 col0\" >$4.90</td>\n",
       "                        <td id=\"T_903e5180_75e4_11ea_973c_2016b91f25barow3_col1\" class=\"data row3 col1\" >9</td>\n",
       "                        <td id=\"T_903e5180_75e4_11ea_973c_2016b91f25barow3_col2\" class=\"data row3 col2\" >$44.10</td>\n",
       "            </tr>\n",
       "            <tr>\n",
       "                        <th id=\"T_903e5180_75e4_11ea_973c_2016b91f25balevel0_row4\" class=\"row_heading level0 row4\" >19</th>\n",
       "                        <th id=\"T_903e5180_75e4_11ea_973c_2016b91f25balevel1_row4\" class=\"row_heading level1 row4\" >Pursuit, Cudgel of Necromancy</th>\n",
       "                        <td id=\"T_903e5180_75e4_11ea_973c_2016b91f25barow4_col0\" class=\"data row4 col0\" >$1.02</td>\n",
       "                        <td id=\"T_903e5180_75e4_11ea_973c_2016b91f25barow4_col1\" class=\"data row4 col1\" >8</td>\n",
       "                        <td id=\"T_903e5180_75e4_11ea_973c_2016b91f25barow4_col2\" class=\"data row4 col2\" >$8.16</td>\n",
       "            </tr>\n",
       "    </tbody></table>"
      ],
      "text/plain": [
       "<pandas.io.formats.style.Styler at 0x2c5dbf43898>"
      ]
     },
     "execution_count": 350,
     "metadata": {},
     "output_type": "execute_result"
    }
   ],
   "source": [
    "items_grouped_df = data[['Item ID', 'Item Name', 'Price']].groupby(['Item ID', 'Item Name'])\n",
    "items_index = items_grouped_df.indices\n",
    "items = pd.DataFrame.from_dict(dict([*items_index.keys()]), orient='index', columns=['Item Name']).set_index('Item Name', append=True)\n",
    "items['Price'] = items_grouped_df.mean()\n",
    "items['Purchases'] = items_grouped_df.count()\n",
    "items['Revenue'] = items_grouped_df.sum()\n",
    "items.sort_values('Purchases', ascending=False).head().style.format({'Price': '${:,.2f}', 'Revenue': '${:,.2f}'})"
   ]
  },
  {
   "cell_type": "code",
   "execution_count": 338,
   "metadata": {
    "scrolled": false
   },
   "outputs": [
    {
     "name": "stdout",
     "output_type": "stream",
     "text": [
      "Total items: 183\n",
      "Average Item Price: $3.04\n",
      "Median Price: $3.14\n",
      "Total Revenue: $2,379.77\n",
      "Avg Times Purchased: 4\n"
     ]
    }
   ],
   "source": [
    "total_items = len(items)\n",
    "print(f'Total items: {total_items:,.0f}')\n",
    "average_price = items['Price'].mean()\n",
    "print(f'Average Item Price: ${average_price:,.2f}')\n",
    "median_price = items['Price'].median()\n",
    "print(f'Median Price: ${median_price:,.2f}')\n",
    "total_revenue = data['Price'].sum()\n",
    "print(f'Total Revenue: ${total_revenue:,.2f}')\n",
    "avg_purchases = items['Purchases'].mean()\n",
    "print(f'Avg Times Purchased: {avg_purchases:,.0f}')"
   ]
  },
  {
   "cell_type": "code",
   "execution_count": 333,
   "metadata": {
    "scrolled": true
   },
   "outputs": [
    {
     "data": {
      "text/plain": [
       "<matplotlib.axes._subplots.AxesSubplot at 0x2c5db758438>"
      ]
     },
     "execution_count": 333,
     "metadata": {},
     "output_type": "execute_result"
    },
    {
     "data": {
      "image/png": "[encoded data removed]",
      "text/plain": [
       "<Figure size 720x432 with 1 Axes>"
      ]
     },
     "metadata": {
      "needs_background": "light"
     },
     "output_type": "display_data"
    }
   ],
   "source": [
    "items.boxplot(by='Purchases', grid=False, figsize=(10, 6))"
   ]
  },
  {
   "cell_type": "code",
   "execution_count": 362,
   "metadata": {
    "scrolled": false
   },
   "outputs": [
    {
     "data": {
      "text/html": [
       "<style  type=\"text/css\" >\n",
       "</style><table id=\"T_c857b84a_75e5_11ea_a537_2016b91f25ba\" ><thead>    <tr>        <th class=\"blank level0\" ></th>        <th class=\"col_heading level0 col0\" >Price</th>        <th class=\"col_heading level0 col1\" >Revenue</th>    </tr>    <tr>        <th class=\"index_name level0\" >Purchases</th>        <th class=\"blank\" ></th>        <th class=\"blank\" ></th>    </tr></thead><tbody>\n",
       "                <tr>\n",
       "                        <th id=\"T_c857b84a_75e5_11ea_a537_2016b91f25balevel0_row0\" class=\"row_heading level0 row0\" >1</th>\n",
       "                        <td id=\"T_c857b84a_75e5_11ea_a537_2016b91f25barow0_col0\" class=\"data row0 col0\" >$3.03</td>\n",
       "                        <td id=\"T_c857b84a_75e5_11ea_a537_2016b91f25barow0_col1\" class=\"data row0 col1\" >$3.03</td>\n",
       "            </tr>\n",
       "            <tr>\n",
       "                        <th id=\"T_c857b84a_75e5_11ea_a537_2016b91f25balevel0_row1\" class=\"row_heading level0 row1\" >2</th>\n",
       "                        <td id=\"T_c857b84a_75e5_11ea_a537_2016b91f25barow1_col0\" class=\"data row1 col0\" >$2.68</td>\n",
       "                        <td id=\"T_c857b84a_75e5_11ea_a537_2016b91f25barow1_col1\" class=\"data row1 col1\" >$5.36</td>\n",
       "            </tr>\n",
       "            <tr>\n",
       "                        <th id=\"T_c857b84a_75e5_11ea_a537_2016b91f25balevel0_row2\" class=\"row_heading level0 row2\" >3</th>\n",
       "                        <td id=\"T_c857b84a_75e5_11ea_a537_2016b91f25barow2_col0\" class=\"data row2 col0\" >$3.41</td>\n",
       "                        <td id=\"T_c857b84a_75e5_11ea_a537_2016b91f25barow2_col1\" class=\"data row2 col1\" >$10.21</td>\n",
       "            </tr>\n",
       "            <tr>\n",
       "                        <th id=\"T_c857b84a_75e5_11ea_a537_2016b91f25balevel0_row3\" class=\"row_heading level0 row3\" >4</th>\n",
       "                        <td id=\"T_c857b84a_75e5_11ea_a537_2016b91f25barow3_col0\" class=\"data row3 col0\" >$3.22</td>\n",
       "                        <td id=\"T_c857b84a_75e5_11ea_a537_2016b91f25barow3_col1\" class=\"data row3 col1\" >$12.86</td>\n",
       "            </tr>\n",
       "            <tr>\n",
       "                        <th id=\"T_c857b84a_75e5_11ea_a537_2016b91f25balevel0_row4\" class=\"row_heading level0 row4\" >5</th>\n",
       "                        <td id=\"T_c857b84a_75e5_11ea_a537_2016b91f25barow4_col0\" class=\"data row4 col0\" >$2.95</td>\n",
       "                        <td id=\"T_c857b84a_75e5_11ea_a537_2016b91f25barow4_col1\" class=\"data row4 col1\" >$14.76</td>\n",
       "            </tr>\n",
       "            <tr>\n",
       "                        <th id=\"T_c857b84a_75e5_11ea_a537_2016b91f25balevel0_row5\" class=\"row_heading level0 row5\" >6</th>\n",
       "                        <td id=\"T_c857b84a_75e5_11ea_a537_2016b91f25barow5_col0\" class=\"data row5 col0\" >$2.74</td>\n",
       "                        <td id=\"T_c857b84a_75e5_11ea_a537_2016b91f25barow5_col1\" class=\"data row5 col1\" >$16.45</td>\n",
       "            </tr>\n",
       "            <tr>\n",
       "                        <th id=\"T_c857b84a_75e5_11ea_a537_2016b91f25balevel0_row6\" class=\"row_heading level0 row6\" >7</th>\n",
       "                        <td id=\"T_c857b84a_75e5_11ea_a537_2016b91f25barow6_col0\" class=\"data row6 col0\" >$2.23</td>\n",
       "                        <td id=\"T_c857b84a_75e5_11ea_a537_2016b91f25barow6_col1\" class=\"data row6 col1\" >$15.59</td>\n",
       "            </tr>\n",
       "            <tr>\n",
       "                        <th id=\"T_c857b84a_75e5_11ea_a537_2016b91f25balevel0_row7\" class=\"row_heading level0 row7\" >8</th>\n",
       "                        <td id=\"T_c857b84a_75e5_11ea_a537_2016b91f25barow7_col0\" class=\"data row7 col0\" >$3.29</td>\n",
       "                        <td id=\"T_c857b84a_75e5_11ea_a537_2016b91f25barow7_col1\" class=\"data row7 col1\" >$26.30</td>\n",
       "            </tr>\n",
       "            <tr>\n",
       "                        <th id=\"T_c857b84a_75e5_11ea_a537_2016b91f25balevel0_row8\" class=\"row_heading level0 row8\" >9</th>\n",
       "                        <td id=\"T_c857b84a_75e5_11ea_a537_2016b91f25barow8_col0\" class=\"data row8 col0\" >$4.34</td>\n",
       "                        <td id=\"T_c857b84a_75e5_11ea_a537_2016b91f25barow8_col1\" class=\"data row8 col1\" >$39.03</td>\n",
       "            </tr>\n",
       "            <tr>\n",
       "                        <th id=\"T_c857b84a_75e5_11ea_a537_2016b91f25balevel0_row9\" class=\"row_heading level0 row9\" >12</th>\n",
       "                        <td id=\"T_c857b84a_75e5_11ea_a537_2016b91f25barow9_col0\" class=\"data row9 col0\" >$4.23</td>\n",
       "                        <td id=\"T_c857b84a_75e5_11ea_a537_2016b91f25barow9_col1\" class=\"data row9 col1\" >$50.76</td>\n",
       "            </tr>\n",
       "    </tbody></table>"
      ],
      "text/plain": [
       "<pandas.io.formats.style.Styler at 0x2c5dbe155f8>"
      ]
     },
     "execution_count": 362,
     "metadata": {},
     "output_type": "execute_result"
    }
   ],
   "source": [
    "items.groupby('Purchases').mean().style.format({'Price': '${:,.2f}', 'Revenue': '${:,.2f}'})"
   ]
  },
  {
   "cell_type": "code",
   "execution_count": 354,
   "metadata": {},
   "outputs": [
    {
     "data": {
      "text/html": [
       "<style  type=\"text/css\" >\n",
       "</style><table id=\"T_c6a83d38_75e4_11ea_82e9_2016b91f25ba\" ><thead>    <tr>        <th class=\"blank level0\" ></th>        <th class=\"col_heading level0 col0\" >Price</th>        <th class=\"col_heading level0 col1\" >Purchases</th>        <th class=\"col_heading level0 col2\" >Revenue</th>    </tr>    <tr>        <th class=\"index_name level0\" >Popularity</th>        <th class=\"blank\" ></th>        <th class=\"blank\" ></th>        <th class=\"blank\" ></th>    </tr></thead><tbody>\n",
       "                <tr>\n",
       "                        <th id=\"T_c6a83d38_75e4_11ea_82e9_2016b91f25balevel0_row0\" class=\"row_heading level0 row0\" >Poor</th>\n",
       "                        <td id=\"T_c6a83d38_75e4_11ea_82e9_2016b91f25barow0_col0\" class=\"data row0 col0\" >$3.08</td>\n",
       "                        <td id=\"T_c6a83d38_75e4_11ea_82e9_2016b91f25barow0_col1\" class=\"data row0 col1\" >2.28</td>\n",
       "                        <td id=\"T_c6a83d38_75e4_11ea_82e9_2016b91f25barow0_col2\" class=\"data row0 col2\" >$7.17</td>\n",
       "            </tr>\n",
       "            <tr>\n",
       "                        <th id=\"T_c6a83d38_75e4_11ea_82e9_2016b91f25balevel0_row1\" class=\"row_heading level0 row1\" >Average</th>\n",
       "                        <td id=\"T_c6a83d38_75e4_11ea_82e9_2016b91f25barow1_col0\" class=\"data row1 col0\" >$2.95</td>\n",
       "                        <td id=\"T_c6a83d38_75e4_11ea_82e9_2016b91f25barow1_col1\" class=\"data row1 col1\" >4.96</td>\n",
       "                        <td id=\"T_c6a83d38_75e4_11ea_82e9_2016b91f25barow1_col2\" class=\"data row1 col2\" >$14.37</td>\n",
       "            </tr>\n",
       "            <tr>\n",
       "                        <th id=\"T_c6a83d38_75e4_11ea_82e9_2016b91f25balevel0_row2\" class=\"row_heading level0 row2\" >Top</th>\n",
       "                        <td id=\"T_c6a83d38_75e4_11ea_82e9_2016b91f25barow2_col0\" class=\"data row2 col0\" >$3.60</td>\n",
       "                        <td id=\"T_c6a83d38_75e4_11ea_82e9_2016b91f25barow2_col1\" class=\"data row2 col1\" >8.54</td>\n",
       "                        <td id=\"T_c6a83d38_75e4_11ea_82e9_2016b91f25barow2_col2\" class=\"data row2 col2\" >$31.12</td>\n",
       "            </tr>\n",
       "    </tbody></table>"
      ],
      "text/plain": [
       "<pandas.io.formats.style.Styler at 0x2c5dbf657b8>"
      ]
     },
     "execution_count": 354,
     "metadata": {},
     "output_type": "execute_result"
    }
   ],
   "source": [
    "popularity_labels = ['Poor', 'Average', 'Top']\n",
    "popularity_bins = [0, 3, 7, 13]\n",
    "items['Popularity'] = pd.cut(items['Purchases'], bins=sales_bins, labels=sales_labels)\n",
    "items.groupby('Popularity').mean().style.format({'Price': '${:,.2f}', 'Purchases': '{:.2f}', 'Revenue': '${:.2f}'})"
   ]
  },
  {
   "cell_type": "markdown",
   "metadata": {},
   "source": [
    "Item Analysis\n",
    "----------------\n"
   ]
  },
  {
   "cell_type": "code",
   "execution_count": 360,
   "metadata": {},
   "outputs": [
    {
     "data": {
      "text/html": [
       "<div>\n",
       "<style scoped>\n",
       "    .dataframe tbody tr th:only-of-type {\n",
       "        vertical-align: middle;\n",
       "    }\n",
       "\n",
       "    .dataframe tbody tr th {\n",
       "        vertical-align: top;\n",
       "    }\n",
       "\n",
       "    .dataframe thead th {\n",
       "        text-align: right;\n",
       "    }\n",
       "</style>\n",
       "<table border=\"1\" class=\"dataframe\">\n",
       "  <thead>\n",
       "    <tr style=\"text-align: right;\">\n",
       "      <th></th>\n",
       "      <th></th>\n",
       "      <th>Price</th>\n",
       "      <th>Purchases</th>\n",
       "      <th>Revenue</th>\n",
       "      <th>Popularity</th>\n",
       "      <th>Sales</th>\n",
       "    </tr>\n",
       "    <tr>\n",
       "      <th></th>\n",
       "      <th>Item Name</th>\n",
       "      <th></th>\n",
       "      <th></th>\n",
       "      <th></th>\n",
       "      <th></th>\n",
       "      <th></th>\n",
       "    </tr>\n",
       "  </thead>\n",
       "  <tbody>\n",
       "    <tr>\n",
       "      <th>0</th>\n",
       "      <th>Splinter</th>\n",
       "      <td>1.28</td>\n",
       "      <td>4</td>\n",
       "      <td>5.12</td>\n",
       "      <td>Average</td>\n",
       "      <td>Poor</td>\n",
       "    </tr>\n",
       "    <tr>\n",
       "      <th>1</th>\n",
       "      <th>Crucifer</th>\n",
       "      <td>3.26</td>\n",
       "      <td>3</td>\n",
       "      <td>9.78</td>\n",
       "      <td>Poor</td>\n",
       "      <td>Average</td>\n",
       "    </tr>\n",
       "    <tr>\n",
       "      <th>2</th>\n",
       "      <th>Verdict</th>\n",
       "      <td>2.48</td>\n",
       "      <td>6</td>\n",
       "      <td>14.88</td>\n",
       "      <td>Average</td>\n",
       "      <td>Average</td>\n",
       "    </tr>\n",
       "    <tr>\n",
       "      <th>3</th>\n",
       "      <th>Phantomlight</th>\n",
       "      <td>2.49</td>\n",
       "      <td>6</td>\n",
       "      <td>14.94</td>\n",
       "      <td>Average</td>\n",
       "      <td>Average</td>\n",
       "    </tr>\n",
       "    <tr>\n",
       "      <th>4</th>\n",
       "      <th>Bloodlord's Fetish</th>\n",
       "      <td>1.70</td>\n",
       "      <td>5</td>\n",
       "      <td>8.50</td>\n",
       "      <td>Average</td>\n",
       "      <td>Average</td>\n",
       "    </tr>\n",
       "  </tbody>\n",
       "</table>\n",
       "</div>"
      ],
      "text/plain": [
       "                      Price  Purchases  Revenue Popularity    Sales\n",
       "  Item Name                                                        \n",
       "0 Splinter             1.28          4     5.12    Average     Poor\n",
       "1 Crucifer             3.26          3     9.78       Poor  Average\n",
       "2 Verdict              2.48          6    14.88    Average  Average\n",
       "3 Phantomlight         2.49          6    14.94    Average  Average\n",
       "4 Bloodlord's Fetish   1.70          5     8.50    Average  Average"
      ]
     },
     "execution_count": 360,
     "metadata": {},
     "output_type": "execute_result"
    }
   ],
   "source": [
    "sales_labels = ['Poor', 'Average', 'Top']\n",
    "sales_bins = [0, 6.99, 16.99, 99]\n",
    "items['Sales'] = pd.cut(items['Revenue'], bins=sales_bins, labels=sales_labels)\n",
    "items.head()"
   ]
  },
  {
   "cell_type": "markdown",
   "metadata": {},
   "source": [
    "User Analysis\n",
    "------------\n"
   ]
  },
  {
   "cell_type": "code",
   "execution_count": null,
   "metadata": {},
   "outputs": [],
   "source": []
  }
 ],
 "metadata": {
  "kernelspec": {
   "display_name": "Python 3",
   "language": "python",
   "name": "python3"
  },
  "language_info": {
   "codemirror_mode": {
    "name": "ipython",
    "version": 3
   },
   "file_extension": ".py",
   "mimetype": "text/x-python",
   "name": "python",
   "nbconvert_exporter": "python",
   "pygments_lexer": "ipython3",
   "version": "3.6.8"
  }
 },
 "nbformat": 4,
 "nbformat_minor": 2
}
